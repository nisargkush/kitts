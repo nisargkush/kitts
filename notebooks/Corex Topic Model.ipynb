{
 "cells": [
  {
   "cell_type": "code",
   "execution_count": 1,
   "metadata": {},
   "outputs": [],
   "source": [
    "from kitts import config\n",
    "from kitts.utils import dataset_utils, data_vision\n",
    "from kitts.dcl import collect_content, annotate_content\n",
    "from kitts.core.model import model_builder"
   ]
  },
  {
   "cell_type": "code",
   "execution_count": 2,
   "metadata": {
    "scrolled": true
   },
   "outputs": [
    {
     "name": "stdout",
     "output_type": "stream",
     "text": [
      "Source Path exists: C:\\Docs\\kitts\\data\\annotated\n",
      "Combined 19 files into one dataframe\n"
     ]
    },
    {
     "data": {
      "text/plain": [
       "(3867, 21)"
      ]
     },
     "execution_count": 2,
     "metadata": {},
     "output_type": "execute_result"
    }
   ],
   "source": [
    "# importing the excel file\n",
    "bdf = dataset_utils.accumulate_dataframe()\n",
    "bdf = dataset_utils.condition_labels(dataframe = bdf, exclude = False)\n",
    "\n",
    "# getting the shape\n",
    "bdf.shape\n",
    "#data.columns"
   ]
  },
  {
   "cell_type": "code",
   "execution_count": 3,
   "metadata": {},
   "outputs": [],
   "source": [
    "#TFIDF Vectorizer\n",
    "sv = model_builder.SimpleVectorize(bdf)\n",
    "#TFIDF feature vectors\n",
    "Tvectorizer, Tfeatures = sv.tfidf_vectorize(max_features = 10000)\n",
    "\n",
    "feature_names = Tvectorizer.get_feature_names()\n",
    "#words = [word for ind,word in enumerate(words)]# if not word.isdigit()]\n",
    "\n",
    "\n",
    "\n",
    "#doc_word.shape # n_docs x m_words"
   ]
  },
  {
   "cell_type": "code",
   "execution_count": 4,
   "metadata": {},
   "outputs": [
    {
     "name": "stdout",
     "output_type": "stream",
     "text": [
      "WARNING: Anchor word not in word column labels provided to CorEx: chirstmas\n"
     ]
    }
   ],
   "source": [
    "#calls model class\n",
    "model = model_builder.CorexModel(feature_vectors = Tfeatures, feature_names = feature_names, no_of_topics = 15 )\n",
    "#creates corex model\n",
    "corex,words = model.corex()"
   ]
  },
  {
   "cell_type": "code",
   "execution_count": 5,
   "metadata": {},
   "outputs": [
    {
     "name": "stdout",
     "output_type": "stream",
     "text": [
      "0: sunset, dusk, afterglow, sunrise, morning, atmosphere, red, orange, bird, ducks, geese, swans, waterfowl, thatching, outcrop, atlas, circuit\n",
      "1: places, holy, cats, felidae, carnivore, big, medium, sized, small, cat, mythology, byzantine, whiskers, mural, view, tunnel, masai, lion, plan, intersection\n",
      "2: art, font, sculpture, statue, artifact, painting, brand, graphics, arts, logo, illustration, visual, circle, electric, event, poster, rectangle, pattern, advertising, metal\n",
      "3: beach, aqua, sand, swimsuit, atoll, resort, seaside, sunlounger, bait, finned, fishing, products, ray, hedge, mesh\n",
      "4: snow, slope, freezing, landform, glacial, ice, branch, phenomenon, twig, cap, geological, atmospheric, ski, recreation, winter, outdoor, trunk, sport, nunatak, boot\n",
      "5: mountain, highland, natural, landscape, ecoregion, terrain, mountainous, nature, environment, grassland, range, community, space, plain, public, lot, larch, cumulus, material, hill\n",
      "6: shopping, flowering, annual, lens, digital, camera, petal, herb, point, reflex, shoot, flower, arranging, botany, single, terrestrial, groundcover, rose, shrub, family\n",
      "7: food, ingredient, recipe, cuisine, dish, tableware, staple, produce, dishware, plate, baked, goods, fast, drinkware, pizza, serveware, vegetable, foods, fines, herbes\n",
      "8: history, ancient, roman, site, archaeological, monument, arch, amphitheatre, medieval, column, wonders, greek, arcade, carving, anthropology, settlement, cobblestone, castle, utility, aqueduct\n",
      "9: fun, uniform, player, ball, soccer, jersey, sports, football, shorts, game, music, leisure, entertainment, musician, breastplate, team, musical, instrument, guitar, performance\n",
      "10: transport, motor, tire, automotive, vehicle, wheel, car, mode, hood, land, parking, registration, grille, lighting, bicycle, rolling, tail, brake, train, track\n",
      "11: water, lake, resources, boat, watercraft, body, oceanic, coastal, watercourse, azure, landforms, waterway, bank, boating, boats, cloud, fountain, decoration, christmas, ornament\n",
      "12: happy, fashion, smile, flash, eyewear, sleeve, photography, care, waist, vision, shoulder, leg, hair, neck, outerwear, lip, hairstyle, gesture, thigh, dress\n",
      "13: official, residence, antenna, measuring, tourism, winery\n",
      "14: interior, frame, comfort, shelving, picture, living, shelf, furniture, couch, lamp, room, bookcase, bed, pillow, floor, cabinetry, chair, wood, sink, case\n"
     ]
    }
   ],
   "source": [
    "#list to no_of_words in all topics\n",
    "topics = model.corex_topics(topic_model = corex, no_of_words = 20)\n",
    "TOURISM_ANCHORS = ['sunset','places','art','beach','snow','mountain','shopping','food','history','fun','transport','water','chirstmas','happy']"
   ]
  },
  {
   "cell_type": "code",
   "execution_count": 6,
   "metadata": {},
   "outputs": [
    {
     "data": {
      "image/png": "[encoded data removed]",
      "text/plain": [
       "<Figure size 720x360 with 1 Axes>"
      ]
     },
     "metadata": {},
     "output_type": "display_data"
    }
   ],
   "source": [
    "#Correlation plot\n",
    "model.plot_corex(topic_model = corex)"
   ]
  },
  {
   "cell_type": "code",
   "execution_count": null,
   "metadata": {},
   "outputs": [],
   "source": [
    "#generates various statisticsal reports\n",
    "#model.corex_report(topic_model = corex, words=words)#, prefix = 'corex_visuals')"
   ]
  },
  {
   "cell_type": "code",
   "execution_count": 7,
   "metadata": {},
   "outputs": [
    {
     "name": "stdout",
     "output_type": "stream",
     "text": [
      "file created and saved at C:\\Docs\\kitts\\data\\clustered\\Corex_Cluster_Data.csv\n"
     ]
    }
   ],
   "source": [
    "#Crceating clustered data file\n",
    "model.clustered_data(topic_model = corex, data = bdf)"
   ]
  }
 ],
 "metadata": {
  "kernelspec": {
   "display_name": "Python 3",
   "language": "python",
   "name": "python3"
  },
  "language_info": {
   "codemirror_mode": {
    "name": "ipython",
    "version": 3
   },
   "file_extension": ".py",
   "mimetype": "text/x-python",
   "name": "python",
   "nbconvert_exporter": "python",
   "pygments_lexer": "ipython3",
   "version": "3.8.3"
  }
 },
 "nbformat": 4,
 "nbformat_minor": 4
}
